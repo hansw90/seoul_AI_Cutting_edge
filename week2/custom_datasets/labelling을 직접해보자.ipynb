{
 "cells": [
  {
   "cell_type": "code",
   "execution_count": 2,
   "metadata": {},
   "outputs": [],
   "source": [
    "import os\n",
    "from glob import glob\n",
    "\n",
    "import xml.etree.ElementTree as ET\n",
    "\n",
    "xml_paths = glob('*.xml')\n",
    "path = xml_paths[0]"
   ]
  },
  {
   "cell_type": "code",
   "execution_count": 3,
   "metadata": {},
   "outputs": [],
   "source": [
    "tree = ET.parse(path)"
   ]
  },
  {
   "cell_type": "code",
   "execution_count": 4,
   "metadata": {},
   "outputs": [
    {
     "data": {
      "text/plain": [
       "<Element 'annotation' at 0x0000021A4B0AB1D8>"
      ]
     },
     "execution_count": 4,
     "metadata": {},
     "output_type": "execute_result"
    }
   ],
   "source": [
    "root = tree.getroot()\n",
    "root"
   ]
  },
  {
   "cell_type": "code",
   "execution_count": 11,
   "metadata": {},
   "outputs": [
    {
     "name": "stdout",
     "output_type": "stream",
     "text": [
      "<Element 'folder' at 0x0000021A4B0AB228>\n",
      "<Element 'filename' at 0x0000021A4B0AB278>\n",
      "<Element 'path' at 0x0000021A4B0AB318>\n",
      "<Element 'source' at 0x0000021A4B0AB368>\n",
      "<Element 'size' at 0x0000021A4B0AB408>\n",
      "<Element 'segmented' at 0x0000021A4B0AB548>\n",
      "<Element 'object' at 0x0000021A4B0AB598>\n",
      "<Element 'object' at 0x0000021A4B0AB8B8>\n"
     ]
    }
   ],
   "source": [
    "for i in root :\n",
    "    print(i)"
   ]
  },
  {
   "cell_type": "markdown",
   "metadata": {},
   "source": [
    "![](cap01.png)"
   ]
  },
  {
   "cell_type": "code",
   "execution_count": 12,
   "metadata": {},
   "outputs": [],
   "source": [
    "objects = root.findall('object')"
   ]
  },
  {
   "cell_type": "code",
   "execution_count": 18,
   "metadata": {},
   "outputs": [
    {
     "data": {
      "text/plain": [
       "'C:\\\\Users\\\\ashgh\\\\OneDrive\\\\문서\\\\서울시x모두연\\\\week2\\\\custom_datasets\\\\2017051709058028746_1.jpg'"
      ]
     },
     "execution_count": 18,
     "metadata": {},
     "output_type": "execute_result"
    }
   ],
   "source": [
    "data_path = root.find('path').text\n",
    "data_path"
   ]
  },
  {
   "cell_type": "code",
   "execution_count": 19,
   "metadata": {},
   "outputs": [
    {
     "data": {
      "text/plain": [
       "'8,12,286,349,dog'"
      ]
     },
     "execution_count": 19,
     "metadata": {},
     "output_type": "execute_result"
    }
   ],
   "source": [
    "obj = objects[0]\n",
    "\n",
    "cls_name = obj.find('name').text\n",
    "xmin = obj.find('bndbox').find('xmin').text\n",
    "ymin = obj.find('bndbox').find('ymin').text\n",
    "xmax = obj.find('bndbox').find('xmax').text\n",
    "ymax = obj.find('bndbox').find('ymax').text\n",
    "\n",
    "coord = ','.join([xmin, ymin, xmax, ymax, cls_name])\n",
    "coord"
   ]
  },
  {
   "cell_type": "code",
   "execution_count": 27,
   "metadata": {},
   "outputs": [
    {
     "data": {
      "text/plain": [
       "'custom_datasets\\\\다운로드.jpg,16,57,257,318,cat'"
      ]
     },
     "execution_count": 27,
     "metadata": {},
     "output_type": "execute_result"
    }
   ],
   "source": [
    "line = ','.join([data_path, coord])\n",
    "line"
   ]
  },
  {
   "cell_type": "code",
   "execution_count": null,
   "metadata": {},
   "outputs": [],
   "source": []
  },
  {
   "cell_type": "code",
   "execution_count": null,
   "metadata": {},
   "outputs": [],
   "source": []
  },
  {
   "cell_type": "code",
   "execution_count": null,
   "metadata": {},
   "outputs": [],
   "source": []
  },
  {
   "cell_type": "markdown",
   "metadata": {},
   "source": [
    "## 위의것 정리"
   ]
  },
  {
   "cell_type": "code",
   "execution_count": 28,
   "metadata": {},
   "outputs": [],
   "source": [
    "lines = []\n",
    "\n",
    "\n",
    "for path in xml_paths :\n",
    "    tree = ET.parse(path)\n",
    "    root = tree.getroot()\n",
    "\n",
    "    data_path = root.find('path').text\n",
    "    fname = os.path.basename(data_path)\n",
    "    data_path = os.path.join(fname)\n",
    "    \n",
    "    \n",
    "    objects = root.findall('object')\n",
    "\n",
    "    for obj in objects :\n",
    "        cls_name = obj.find('name').text\n",
    "        xmin = obj.find('bndbox').find('xmin').text\n",
    "        ymin = obj.find('bndbox').find('ymin').text\n",
    "        xmax = obj.find('bndbox').find('xmax').text\n",
    "        ymax = obj.find('bndbox').find('ymax').text\n",
    "\n",
    "        coord = ','.join([xmin, ymin, xmax, ymax, cls_name])\n",
    "\n",
    "        line = ','.join([data_path, coord])\n",
    "        \n",
    "        lines.append(line)"
   ]
  },
  {
   "cell_type": "code",
   "execution_count": 29,
   "metadata": {},
   "outputs": [
    {
     "data": {
      "text/plain": [
       "['2017051709058028746_1.jpg,8,12,286,349,dog',\n",
       " '2017051709058028746_1.jpg,314,31,500,355,cat',\n",
       " '220081_103498_4716.jpg,2,1,353,401,dog',\n",
       " '220081_103498_4716.jpg,356,12,671,399,cat',\n",
       " '5d71d4de3b0000b140d0167e.jpeg,3,225,251,552,cat',\n",
       " '5d71d4de3b0000b140d0167e.jpeg,136,23,570,543,dog',\n",
       " 'ddd.jpg,169,91,329,251,dog',\n",
       " 'ddd.jpg,103,129,195,221,cat',\n",
       " 'images (1).jpg,89,18,178,157,dog',\n",
       " 'images (2).jpg,2,2,236,183,cat',\n",
       " 'images.jpg,22,9,192,192,dog',\n",
       " 'images.jpg,139,49,223,192,cat',\n",
       " 'maxresdefault.jpg,1,73,592,679,dog',\n",
       " 'maxresdefault.jpg,802,18,1123,272,cat',\n",
       " 'unnamed.jpg,165,74,512,494,dog',\n",
       " 'unnamed.jpg,1,255,157,492,cat',\n",
       " '다운로드 (1).jpg,212,118,433,378,cat',\n",
       " '다운로드.jpg,274,26,462,332,dog',\n",
       " '다운로드.jpg,16,57,257,318,cat']"
      ]
     },
     "execution_count": 29,
     "metadata": {},
     "output_type": "execute_result"
    }
   ],
   "source": [
    "lines"
   ]
  },
  {
   "cell_type": "code",
   "execution_count": 30,
   "metadata": {},
   "outputs": [],
   "source": [
    "with open('annotaion.csv','w') as txt :\n",
    "    txt.write('\\n'.join(lines))"
   ]
  },
  {
   "cell_type": "code",
   "execution_count": null,
   "metadata": {},
   "outputs": [],
   "source": []
  }
 ],
 "metadata": {
  "kernelspec": {
   "display_name": "Python 3",
   "language": "python",
   "name": "python3"
  },
  "language_info": {
   "codemirror_mode": {
    "name": "ipython",
    "version": 3
   },
   "file_extension": ".py",
   "mimetype": "text/x-python",
   "name": "python",
   "nbconvert_exporter": "python",
   "pygments_lexer": "ipython3",
   "version": "3.7.6"
  }
 },
 "nbformat": 4,
 "nbformat_minor": 4
}
