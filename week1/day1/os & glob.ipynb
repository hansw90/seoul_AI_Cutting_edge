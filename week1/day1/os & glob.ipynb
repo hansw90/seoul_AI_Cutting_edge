{
 "cells": [
  {
   "cell_type": "markdown",
   "metadata": {},
   "source": [
    "# os & glob"
   ]
  },
  {
   "cell_type": "code",
   "execution_count": 1,
   "metadata": {},
   "outputs": [],
   "source": [
    "import os\n",
    "from glob import glob\n",
    "\n",
    "import numpy as np\n",
    "from PIL import Image\n",
    "\n",
    "import matplotlib.pyplot as plt"
   ]
  },
  {
   "cell_type": "code",
   "execution_count": 2,
   "metadata": {},
   "outputs": [
    {
     "data": {
      "text/plain": [
       "'C:\\\\Users\\\\ashgh\\\\OneDrive\\\\문서\\\\서울시x모두연'"
      ]
     },
     "execution_count": 2,
     "metadata": {},
     "output_type": "execute_result"
    }
   ],
   "source": [
    "os.getcwd()"
   ]
  },
  {
   "cell_type": "code",
   "execution_count": 53,
   "metadata": {},
   "outputs": [
    {
     "data": {
      "text/plain": [
       "['.ipynb_checkpoints',\n",
       " '1일차퀴즈_한승우.ipynb',\n",
       " 'day2',\n",
       " 'imageClassification_한승우.pptx',\n",
       " 'imageSegmentation(subclassing)_한승우.pptx',\n",
       " 'imageSegmentation_한승우.pptx',\n",
       " 'infolder',\n",
       " 'new_folder',\n",
       " 'sentiment_recognition_한승우.pptx',\n",
       " 'speech_recognition_한승우.pptx']"
      ]
     },
     "execution_count": 53,
     "metadata": {},
     "output_type": "execute_result"
    }
   ],
   "source": [
    "os.listdir()"
   ]
  },
  {
   "cell_type": "code",
   "execution_count": null,
   "metadata": {},
   "outputs": [],
   "source": []
  },
  {
   "cell_type": "markdown",
   "metadata": {},
   "source": [
    "# glob"
   ]
  },
  {
   "cell_type": "code",
   "execution_count": 8,
   "metadata": {},
   "outputs": [
    {
     "data": {
      "text/plain": [
       "['.ipynb_checkpoints',\n",
       " '1일차퀴즈_한승우.ipynb',\n",
       " 'cat.jpg',\n",
       " 'cat2.jfif',\n",
       " 'cat2.jpg',\n",
       " 'cat3.jpg',\n",
       " 'cat4.jpg',\n",
       " 'dog.jpg',\n",
       " 'imageClassification_한승우.pptx',\n",
       " 'imageSegmentation(subclassing)_한승우.pptx',\n",
       " 'imageSegmentation_한승우.pptx',\n",
       " 'os & glob.ipynb',\n",
       " 'sentiment_recognition_한승우.pptx',\n",
       " 'speech_recognition_한승우.pptx']"
      ]
     },
     "execution_count": 8,
     "metadata": {},
     "output_type": "execute_result"
    }
   ],
   "source": [
    "os.listdir()"
   ]
  },
  {
   "cell_type": "code",
   "execution_count": 15,
   "metadata": {},
   "outputs": [
    {
     "data": {
      "text/plain": [
       "['cat.jpg', 'cat2.jpg', 'cat3.jpg', 'cat4.jpg', 'dog.jpg']"
      ]
     },
     "execution_count": 15,
     "metadata": {},
     "output_type": "execute_result"
    }
   ],
   "source": [
    "data_paths = glob('*.jpg')\n",
    "data_paths"
   ]
  },
  {
   "cell_type": "code",
   "execution_count": 16,
   "metadata": {},
   "outputs": [
    {
     "data": {
      "text/plain": [
       "['1일차퀴즈_한승우.ipynb',\n",
       " 'imageClassification_한승우.pptx',\n",
       " 'imageSegmentation(subclassing)_한승우.pptx',\n",
       " 'imageSegmentation_한승우.pptx',\n",
       " 'sentiment_recognition_한승우.pptx',\n",
       " 'speech_recognition_한승우.pptx']"
      ]
     },
     "execution_count": 16,
     "metadata": {},
     "output_type": "execute_result"
    }
   ],
   "source": [
    "glob('*_*')"
   ]
  },
  {
   "cell_type": "code",
   "execution_count": null,
   "metadata": {},
   "outputs": [],
   "source": []
  },
  {
   "cell_type": "code",
   "execution_count": null,
   "metadata": {},
   "outputs": [],
   "source": []
  },
  {
   "cell_type": "markdown",
   "metadata": {},
   "source": [
    "# os.path"
   ]
  },
  {
   "cell_type": "code",
   "execution_count": 17,
   "metadata": {},
   "outputs": [
    {
     "data": {
      "text/plain": [
       "'cat.jpg'"
      ]
     },
     "execution_count": 17,
     "metadata": {},
     "output_type": "execute_result"
    }
   ],
   "source": [
    "# 상대경로로 출력\n",
    "path = data_paths[0]\n",
    "path"
   ]
  },
  {
   "cell_type": "code",
   "execution_count": 18,
   "metadata": {},
   "outputs": [
    {
     "data": {
      "text/plain": [
       "'C:\\\\Users\\\\ashgh\\\\OneDrive\\\\문서\\\\서울시x모두연'"
      ]
     },
     "execution_count": 18,
     "metadata": {},
     "output_type": "execute_result"
    }
   ],
   "source": [
    "os.getcwd()"
   ]
  },
  {
   "cell_type": "code",
   "execution_count": 20,
   "metadata": {},
   "outputs": [
    {
     "data": {
      "text/plain": [
       "'C:\\\\Users\\\\ashgh\\\\OneDrive\\\\문서\\\\서울시x모두연\\\\cat.jpg'"
      ]
     },
     "execution_count": 20,
     "metadata": {},
     "output_type": "execute_result"
    }
   ],
   "source": [
    "# 절대경로로 변경방법\n",
    "os.path.join(os.getcwd(),path)"
   ]
  },
  {
   "cell_type": "code",
   "execution_count": 22,
   "metadata": {},
   "outputs": [],
   "source": [
    "new_data_paths = [os.path.join(os.getcwd(),x) for x in data_paths]"
   ]
  },
  {
   "cell_type": "code",
   "execution_count": 23,
   "metadata": {},
   "outputs": [
    {
     "data": {
      "text/plain": [
       "['C:\\\\Users\\\\ashgh\\\\OneDrive\\\\문서\\\\서울시x모두연\\\\cat.jpg',\n",
       " 'C:\\\\Users\\\\ashgh\\\\OneDrive\\\\문서\\\\서울시x모두연\\\\cat2.jpg',\n",
       " 'C:\\\\Users\\\\ashgh\\\\OneDrive\\\\문서\\\\서울시x모두연\\\\cat3.jpg',\n",
       " 'C:\\\\Users\\\\ashgh\\\\OneDrive\\\\문서\\\\서울시x모두연\\\\cat4.jpg',\n",
       " 'C:\\\\Users\\\\ashgh\\\\OneDrive\\\\문서\\\\서울시x모두연\\\\dog.jpg']"
      ]
     },
     "execution_count": 23,
     "metadata": {},
     "output_type": "execute_result"
    }
   ],
   "source": [
    "new_data_paths"
   ]
  },
  {
   "cell_type": "code",
   "execution_count": 24,
   "metadata": {},
   "outputs": [
    {
     "data": {
      "text/plain": [
       "'C:\\\\Users\\\\ashgh\\\\OneDrive\\\\문서\\\\서울시x모두연\\\\cat.jpg'"
      ]
     },
     "execution_count": 24,
     "metadata": {},
     "output_type": "execute_result"
    }
   ],
   "source": [
    "path = new_data_paths[0]\n",
    "path"
   ]
  },
  {
   "cell_type": "code",
   "execution_count": 25,
   "metadata": {},
   "outputs": [
    {
     "data": {
      "text/plain": [
       "'C:\\\\Users\\\\ashgh\\\\OneDrive\\\\문서\\\\서울시x모두연'"
      ]
     },
     "execution_count": 25,
     "metadata": {},
     "output_type": "execute_result"
    }
   ],
   "source": [
    "os.path.dirname(path)"
   ]
  },
  {
   "cell_type": "code",
   "execution_count": 26,
   "metadata": {},
   "outputs": [
    {
     "data": {
      "text/plain": [
       "'cat.jpg'"
      ]
     },
     "execution_count": 26,
     "metadata": {},
     "output_type": "execute_result"
    }
   ],
   "source": [
    "os.path.basename(path)"
   ]
  },
  {
   "cell_type": "code",
   "execution_count": 27,
   "metadata": {},
   "outputs": [
    {
     "data": {
      "text/plain": [
       "('C:\\\\Users\\\\ashgh\\\\OneDrive\\\\문서\\\\서울시x모두연', 'cat.jpg')"
      ]
     },
     "execution_count": 27,
     "metadata": {},
     "output_type": "execute_result"
    }
   ],
   "source": [
    "os.path.split(path)"
   ]
  },
  {
   "cell_type": "code",
   "execution_count": 28,
   "metadata": {},
   "outputs": [
    {
     "data": {
      "text/plain": [
       "'c://workspace\\\\cat.jpg'"
      ]
     },
     "execution_count": 28,
     "metadata": {},
     "output_type": "execute_result"
    }
   ],
   "source": [
    "check = os.path.join(\"c://workspace\",os.path.basename(path))\n",
    "check"
   ]
  },
  {
   "cell_type": "code",
   "execution_count": 29,
   "metadata": {},
   "outputs": [
    {
     "data": {
      "text/plain": [
       "False"
      ]
     },
     "execution_count": 29,
     "metadata": {},
     "output_type": "execute_result"
    }
   ],
   "source": [
    "os.path.exists(check)"
   ]
  },
  {
   "cell_type": "code",
   "execution_count": 30,
   "metadata": {},
   "outputs": [
    {
     "data": {
      "text/plain": [
       "True"
      ]
     },
     "execution_count": 30,
     "metadata": {},
     "output_type": "execute_result"
    }
   ],
   "source": [
    "os.path.exists(path)"
   ]
  },
  {
   "cell_type": "code",
   "execution_count": null,
   "metadata": {},
   "outputs": [],
   "source": []
  },
  {
   "cell_type": "code",
   "execution_count": null,
   "metadata": {},
   "outputs": [],
   "source": []
  },
  {
   "cell_type": "markdown",
   "metadata": {},
   "source": [
    "# 파일수정 shutil"
   ]
  },
  {
   "cell_type": "code",
   "execution_count": 31,
   "metadata": {},
   "outputs": [],
   "source": [
    "import shutil"
   ]
  },
  {
   "cell_type": "code",
   "execution_count": 32,
   "metadata": {},
   "outputs": [],
   "source": [
    "os.mkdir(\"new_folder\")"
   ]
  },
  {
   "cell_type": "code",
   "execution_count": 33,
   "metadata": {},
   "outputs": [
    {
     "data": {
      "text/plain": [
       "['.ipynb_checkpoints',\n",
       " '1일차퀴즈_한승우.ipynb',\n",
       " 'cat.jpg',\n",
       " 'cat2.jfif',\n",
       " 'cat2.jpg',\n",
       " 'cat3.jpg',\n",
       " 'cat4.jpg',\n",
       " 'dog.jpg',\n",
       " 'imageClassification_한승우.pptx',\n",
       " 'imageSegmentation(subclassing)_한승우.pptx',\n",
       " 'imageSegmentation_한승우.pptx',\n",
       " 'new_folder',\n",
       " 'os & glob.ipynb',\n",
       " 'sentiment_recognition_한승우.pptx',\n",
       " 'speech_recognition_한승우.pptx']"
      ]
     },
     "execution_count": 33,
     "metadata": {},
     "output_type": "execute_result"
    }
   ],
   "source": [
    "os.listdir()"
   ]
  },
  {
   "cell_type": "code",
   "execution_count": 34,
   "metadata": {},
   "outputs": [],
   "source": [
    "os.rmdir('new_folder')"
   ]
  },
  {
   "cell_type": "code",
   "execution_count": 35,
   "metadata": {},
   "outputs": [
    {
     "data": {
      "text/plain": [
       "['.ipynb_checkpoints',\n",
       " '1일차퀴즈_한승우.ipynb',\n",
       " 'cat.jpg',\n",
       " 'cat2.jfif',\n",
       " 'cat2.jpg',\n",
       " 'cat3.jpg',\n",
       " 'cat4.jpg',\n",
       " 'dog.jpg',\n",
       " 'imageClassification_한승우.pptx',\n",
       " 'imageSegmentation(subclassing)_한승우.pptx',\n",
       " 'imageSegmentation_한승우.pptx',\n",
       " 'os & glob.ipynb',\n",
       " 'sentiment_recognition_한승우.pptx',\n",
       " 'speech_recognition_한승우.pptx']"
      ]
     },
     "execution_count": 35,
     "metadata": {},
     "output_type": "execute_result"
    }
   ],
   "source": [
    "os.listdir()"
   ]
  },
  {
   "cell_type": "code",
   "execution_count": 36,
   "metadata": {},
   "outputs": [],
   "source": [
    "os.makedirs('new_folder/infolder')"
   ]
  },
  {
   "cell_type": "code",
   "execution_count": 37,
   "metadata": {},
   "outputs": [
    {
     "data": {
      "text/plain": [
       "['.ipynb_checkpoints',\n",
       " '1일차퀴즈_한승우.ipynb',\n",
       " 'cat.jpg',\n",
       " 'cat2.jfif',\n",
       " 'cat2.jpg',\n",
       " 'cat3.jpg',\n",
       " 'cat4.jpg',\n",
       " 'dog.jpg',\n",
       " 'imageClassification_한승우.pptx',\n",
       " 'imageSegmentation(subclassing)_한승우.pptx',\n",
       " 'imageSegmentation_한승우.pptx',\n",
       " 'new_folder',\n",
       " 'os & glob.ipynb',\n",
       " 'sentiment_recognition_한승우.pptx',\n",
       " 'speech_recognition_한승우.pptx']"
      ]
     },
     "execution_count": 37,
     "metadata": {},
     "output_type": "execute_result"
    }
   ],
   "source": [
    "os.listdir()"
   ]
  },
  {
   "cell_type": "code",
   "execution_count": 38,
   "metadata": {},
   "outputs": [
    {
     "data": {
      "text/plain": [
       "['infolder']"
      ]
     },
     "execution_count": 38,
     "metadata": {},
     "output_type": "execute_result"
    }
   ],
   "source": [
    "os.listdir('new_folder')"
   ]
  },
  {
   "cell_type": "code",
   "execution_count": 45,
   "metadata": {},
   "outputs": [],
   "source": [
    "#폴더명 변경\n",
    "os.rename('new_folder/aa','new_folder/images')"
   ]
  },
  {
   "cell_type": "code",
   "execution_count": 46,
   "metadata": {},
   "outputs": [
    {
     "data": {
      "text/plain": [
       "['images']"
      ]
     },
     "execution_count": 46,
     "metadata": {},
     "output_type": "execute_result"
    }
   ],
   "source": [
    "os.listdir('new_folder')"
   ]
  },
  {
   "cell_type": "code",
   "execution_count": 47,
   "metadata": {},
   "outputs": [],
   "source": [
    "os.rename('new_folder/images','infolder')"
   ]
  },
  {
   "cell_type": "code",
   "execution_count": 50,
   "metadata": {},
   "outputs": [
    {
     "data": {
      "text/plain": [
       "['.ipynb_checkpoints',\n",
       " '1일차퀴즈_한승우.ipynb',\n",
       " 'cat.jpg',\n",
       " 'cat2.jfif',\n",
       " 'cat2.jpg',\n",
       " 'cat3.jpg',\n",
       " 'cat4.jpg',\n",
       " 'dog.jpg',\n",
       " 'imageClassification_한승우.pptx',\n",
       " 'imageSegmentation(subclassing)_한승우.pptx',\n",
       " 'imageSegmentation_한승우.pptx',\n",
       " 'infolder',\n",
       " 'new_folder',\n",
       " 'os & glob.ipynb',\n",
       " 'sentiment_recognition_한승우.pptx',\n",
       " 'speech_recognition_한승우.pptx']"
      ]
     },
     "execution_count": 50,
     "metadata": {},
     "output_type": "execute_result"
    }
   ],
   "source": [
    "os.listdir()"
   ]
  },
  {
   "cell_type": "code",
   "execution_count": 49,
   "metadata": {},
   "outputs": [
    {
     "data": {
      "text/plain": [
       "[]"
      ]
     },
     "execution_count": 49,
     "metadata": {},
     "output_type": "execute_result"
    }
   ],
   "source": [
    "os.listdir('new_folder')"
   ]
  },
  {
   "cell_type": "code",
   "execution_count": null,
   "metadata": {},
   "outputs": [],
   "source": []
  }
 ],
 "metadata": {
  "kernelspec": {
   "display_name": "Python 3",
   "language": "python",
   "name": "python3"
  },
  "language_info": {
   "codemirror_mode": {
    "name": "ipython",
    "version": 3
   },
   "file_extension": ".py",
   "mimetype": "text/x-python",
   "name": "python",
   "nbconvert_exporter": "python",
   "pygments_lexer": "ipython3",
   "version": "3.7.6"
  }
 },
 "nbformat": 4,
 "nbformat_minor": 4
}
