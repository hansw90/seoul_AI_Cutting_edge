{
 "cells": [
  {
   "cell_type": "code",
   "execution_count": 20,
   "metadata": {},
   "outputs": [],
   "source": [
    "import os\n",
    "from glob import glob \n",
    "\n",
    "import numpy as np\n",
    "from PIL import Image\n",
    "import matplotlib.pyplot as plt\n",
    "import tensorflow as tf\n",
    "from tensorflow.keras import layers\n",
    "import tensorflow.keras.backend as K\n",
    "\n",
    "%matplotlib inline"
   ]
  },
  {
   "cell_type": "code",
   "execution_count": 21,
   "metadata": {},
   "outputs": [
    {
     "data": {
      "text/plain": [
       "(64, 64)"
      ]
     },
     "execution_count": 21,
     "metadata": {},
     "output_type": "execute_result"
    }
   ],
   "source": [
    "# 더 적은 쪽을 기준으로 가져온다 \n",
    "tmp_label_paths = glob('../day1/ADE20K_2017_05_30_consistency/images/consistencyanalysis/original_ade20k/*_seg.png')\n",
    "\n",
    "image_paths = []\n",
    "label_paths = []\n",
    "\n",
    "for lbl_path in tmp_label_paths:\n",
    "    img_path = lbl_path.replace('_seg.png', '.jpg')\n",
    "    if os.path.exists(img_path):\n",
    "        image_paths.append(img_path)\n",
    "        label_paths.append(lbl_path)\n",
    "        \n",
    "len(image_paths), len(label_paths)"
   ]
  },
  {
   "cell_type": "code",
   "execution_count": 22,
   "metadata": {},
   "outputs": [
    {
     "data": {
      "text/plain": [
       "array([ 0,  1,  2,  3,  4,  5,  6,  7,  8,  9, 10, 11, 12])"
      ]
     },
     "execution_count": 22,
     "metadata": {},
     "output_type": "execute_result"
    }
   ],
   "source": [
    "class_nums = np.arange(13)\n",
    "class_nums"
   ]
  },
  {
   "cell_type": "markdown",
   "metadata": {},
   "source": [
    "# Hyperparameter"
   ]
  },
  {
   "cell_type": "code",
   "execution_count": 23,
   "metadata": {},
   "outputs": [],
   "source": [
    "batch_size = 4\n",
    "epochs = 5\n",
    "drop_rate = 0.2\n",
    "\n",
    "input_shape = (128, 128, 3)"
   ]
  },
  {
   "cell_type": "code",
   "execution_count": 24,
   "metadata": {},
   "outputs": [
    {
     "data": {
      "text/plain": [
       "['../day1/ADE20K_2017_05_30_consistency/images/consistencyanalysis/original_ade20k\\\\labelme_bxvctltntrtinjf_seg.png',\n",
       " '../day1/ADE20K_2017_05_30_consistency/images/consistencyanalysis/original_ade20k\\\\labelme_dfmtscjlgpxnxvg_seg.png',\n",
       " '../day1/ADE20K_2017_05_30_consistency/images/consistencyanalysis/original_ade20k\\\\labelme_dvkvazcsyvkumig_seg.png',\n",
       " '../day1/ADE20K_2017_05_30_consistency/images/consistencyanalysis/original_ade20k\\\\labelme_fbpgpaxesdmtnqy_seg.png',\n",
       " '../day1/ADE20K_2017_05_30_consistency/images/consistencyanalysis/original_ade20k\\\\labelme_hueaxalkegppjob_seg.png',\n",
       " '../day1/ADE20K_2017_05_30_consistency/images/consistencyanalysis/original_ade20k\\\\labelme_ksbcdzlsogcuudh_seg.png',\n",
       " '../day1/ADE20K_2017_05_30_consistency/images/consistencyanalysis/original_ade20k\\\\labelme_kvyxvreglagziop_seg.png',\n",
       " '../day1/ADE20K_2017_05_30_consistency/images/consistencyanalysis/original_ade20k\\\\labelme_nxqdbafndbozeee_seg.png',\n",
       " '../day1/ADE20K_2017_05_30_consistency/images/consistencyanalysis/original_ade20k\\\\labelme_rbjlgswhtdvdpju_seg.png',\n",
       " '../day1/ADE20K_2017_05_30_consistency/images/consistencyanalysis/original_ade20k\\\\labelme_teeducufjdaxjgm_seg.png',\n",
       " '../day1/ADE20K_2017_05_30_consistency/images/consistencyanalysis/original_ade20k\\\\labelme_uajxqteglcbqwaw_seg.png',\n",
       " '../day1/ADE20K_2017_05_30_consistency/images/consistencyanalysis/original_ade20k\\\\labelme_uiegyqlthmrvvmt_seg.png',\n",
       " '../day1/ADE20K_2017_05_30_consistency/images/consistencyanalysis/original_ade20k\\\\labelme_ukezunjodtimqkc_seg.png',\n",
       " '../day1/ADE20K_2017_05_30_consistency/images/consistencyanalysis/original_ade20k\\\\labelme_xewvmwvhbbexpwl_seg.png',\n",
       " '../day1/ADE20K_2017_05_30_consistency/images/consistencyanalysis/original_ade20k\\\\labelme_xthqmdozlpcfeah_seg.png',\n",
       " '../day1/ADE20K_2017_05_30_consistency/images/consistencyanalysis/original_ade20k\\\\sun_aaafnwawebvhgkpx_seg.png',\n",
       " '../day1/ADE20K_2017_05_30_consistency/images/consistencyanalysis/original_ade20k\\\\sun_aaeixvafoltxhilv_seg.png',\n",
       " '../day1/ADE20K_2017_05_30_consistency/images/consistencyanalysis/original_ade20k\\\\sun_aajqjnzswlmdcmyl_seg.png',\n",
       " '../day1/ADE20K_2017_05_30_consistency/images/consistencyanalysis/original_ade20k\\\\sun_abjkbiowonmjypvw_seg.png',\n",
       " '../day1/ADE20K_2017_05_30_consistency/images/consistencyanalysis/original_ade20k\\\\sun_abjkyoaboisttjmi_seg.png',\n",
       " '../day1/ADE20K_2017_05_30_consistency/images/consistencyanalysis/original_ade20k\\\\sun_abptkhloebztzify_seg.png',\n",
       " '../day1/ADE20K_2017_05_30_consistency/images/consistencyanalysis/original_ade20k\\\\sun_acdlgczjpwkeuvgy_seg.png',\n",
       " '../day1/ADE20K_2017_05_30_consistency/images/consistencyanalysis/original_ade20k\\\\sun_acnsvvdtsvgmavud_seg.png',\n",
       " '../day1/ADE20K_2017_05_30_consistency/images/consistencyanalysis/original_ade20k\\\\sun_adiseghgpfylsbrh_seg.png',\n",
       " '../day1/ADE20K_2017_05_30_consistency/images/consistencyanalysis/original_ade20k\\\\sun_aeauzpesdtbrujrr_seg.png',\n",
       " '../day1/ADE20K_2017_05_30_consistency/images/consistencyanalysis/original_ade20k\\\\sun_aegzcnuxtvoxtlmw_seg.png',\n",
       " '../day1/ADE20K_2017_05_30_consistency/images/consistencyanalysis/original_ade20k\\\\sun_aenzryhupalpotjl_seg.png',\n",
       " '../day1/ADE20K_2017_05_30_consistency/images/consistencyanalysis/original_ade20k\\\\sun_aepclyjnqchhsigu_seg.png',\n",
       " '../day1/ADE20K_2017_05_30_consistency/images/consistencyanalysis/original_ade20k\\\\sun_aevqjxkcmdzqzzhd_seg.png',\n",
       " '../day1/ADE20K_2017_05_30_consistency/images/consistencyanalysis/original_ade20k\\\\sun_aeyxnsjrnbdhbesx_seg.png',\n",
       " '../day1/ADE20K_2017_05_30_consistency/images/consistencyanalysis/original_ade20k\\\\sun_afndasonamlaolbl_seg.png',\n",
       " '../day1/ADE20K_2017_05_30_consistency/images/consistencyanalysis/original_ade20k\\\\sun_afqecbbwvpxqcuew_seg.png',\n",
       " '../day1/ADE20K_2017_05_30_consistency/images/consistencyanalysis/original_ade20k\\\\sun_afqhutovoyopjklj_seg.png',\n",
       " '../day1/ADE20K_2017_05_30_consistency/images/consistencyanalysis/original_ade20k\\\\sun_afreqryibyksnmev_seg.png',\n",
       " '../day1/ADE20K_2017_05_30_consistency/images/consistencyanalysis/original_ade20k\\\\sun_aftwrmahenhkilad_seg.png',\n",
       " '../day1/ADE20K_2017_05_30_consistency/images/consistencyanalysis/original_ade20k\\\\sun_agcwankggrotikly_seg.png',\n",
       " '../day1/ADE20K_2017_05_30_consistency/images/consistencyanalysis/original_ade20k\\\\sun_aiaolaigwstmdabl_seg.png',\n",
       " '../day1/ADE20K_2017_05_30_consistency/images/consistencyanalysis/original_ade20k\\\\sun_aiiubfphimhxnlkk_seg.png',\n",
       " '../day1/ADE20K_2017_05_30_consistency/images/consistencyanalysis/original_ade20k\\\\sun_ajcalpgflrfvhhhw_seg.png',\n",
       " '../day1/ADE20K_2017_05_30_consistency/images/consistencyanalysis/original_ade20k\\\\sun_ajhljrrlroysumtf_seg.png',\n",
       " '../day1/ADE20K_2017_05_30_consistency/images/consistencyanalysis/original_ade20k\\\\sun_akbbxewfnuxtxfkd_seg.png',\n",
       " '../day1/ADE20K_2017_05_30_consistency/images/consistencyanalysis/original_ade20k\\\\sun_akeacyqqafcecdbg_seg.png',\n",
       " '../day1/ADE20K_2017_05_30_consistency/images/consistencyanalysis/original_ade20k\\\\sun_akzskyczltnifnbv_seg.png',\n",
       " '../day1/ADE20K_2017_05_30_consistency/images/consistencyanalysis/original_ade20k\\\\sun_aleuusbwkobwettd_seg.png',\n",
       " '../day1/ADE20K_2017_05_30_consistency/images/consistencyanalysis/original_ade20k\\\\sun_aliluoapadnpobus_seg.png',\n",
       " '../day1/ADE20K_2017_05_30_consistency/images/consistencyanalysis/original_ade20k\\\\sun_altwjhscqoydayov_seg.png',\n",
       " '../day1/ADE20K_2017_05_30_consistency/images/consistencyanalysis/original_ade20k\\\\sun_amyfrjfsypqohzav_seg.png',\n",
       " '../day1/ADE20K_2017_05_30_consistency/images/consistencyanalysis/original_ade20k\\\\sun_angihfcdleudgnvr_seg.png',\n",
       " '../day1/ADE20K_2017_05_30_consistency/images/consistencyanalysis/original_ade20k\\\\sun_annhmcysnhhysgnz_seg.png',\n",
       " '../day1/ADE20K_2017_05_30_consistency/images/consistencyanalysis/original_ade20k\\\\sun_anuocfbudybnkgtg_seg.png',\n",
       " '../day1/ADE20K_2017_05_30_consistency/images/consistencyanalysis/original_ade20k\\\\sun_anzyycgyacnppfws_seg.png',\n",
       " '../day1/ADE20K_2017_05_30_consistency/images/consistencyanalysis/original_ade20k\\\\sun_aoemlihrrrwglvor_seg.png',\n",
       " '../day1/ADE20K_2017_05_30_consistency/images/consistencyanalysis/original_ade20k\\\\sun_aosytjokmpvilcpj_seg.png',\n",
       " '../day1/ADE20K_2017_05_30_consistency/images/consistencyanalysis/original_ade20k\\\\sun_atdkanradmwnyiyn_seg.png',\n",
       " '../day1/ADE20K_2017_05_30_consistency/images/consistencyanalysis/original_ade20k\\\\sun_atipxhxbzczdttnx_seg.png',\n",
       " '../day1/ADE20K_2017_05_30_consistency/images/consistencyanalysis/original_ade20k\\\\sun_avqxcffpkatshvcl_seg.png',\n",
       " '../day1/ADE20K_2017_05_30_consistency/images/consistencyanalysis/original_ade20k\\\\sun_awlzasuxltfvoqrx_seg.png',\n",
       " '../day1/ADE20K_2017_05_30_consistency/images/consistencyanalysis/original_ade20k\\\\sun_axbmrnrlmwuzaodf_seg.png',\n",
       " '../day1/ADE20K_2017_05_30_consistency/images/consistencyanalysis/original_ade20k\\\\sun_ayembmzlbmvbrvqc_seg.png',\n",
       " '../day1/ADE20K_2017_05_30_consistency/images/consistencyanalysis/original_ade20k\\\\sun_aytkqydhywbnykun_seg.png',\n",
       " '../day1/ADE20K_2017_05_30_consistency/images/consistencyanalysis/original_ade20k\\\\sun_bemqrnupbojbmaql_seg.png',\n",
       " '../day1/ADE20K_2017_05_30_consistency/images/consistencyanalysis/original_ade20k\\\\sun_bhwcxdrfinabwbpi_seg.png',\n",
       " '../day1/ADE20K_2017_05_30_consistency/images/consistencyanalysis/original_ade20k\\\\sun_biqtmpypgwgktgab_seg.png',\n",
       " '../day1/ADE20K_2017_05_30_consistency/images/consistencyanalysis/original_ade20k\\\\sun_cpsvebxdrvevzsim_seg.png']"
      ]
     },
     "execution_count": 24,
     "metadata": {},
     "output_type": "execute_result"
    }
   ],
   "source": [
    "label_paths"
   ]
  },
  {
   "cell_type": "code",
   "execution_count": 19,
   "metadata": {},
   "outputs": [
    {
     "name": "stdout",
     "output_type": "stream",
     "text": [
      "(128, 128, 1)\n"
     ]
    }
   ],
   "source": [
    "label_tf = tf.io.read_file(label_paths[0])\n",
    "label = tf.io.decode_png(label_tf)\n",
    "\n",
    "label_c, _ = tf.split(label, [1, -1], axis=-1)\n",
    "label_c = tf.image.resize(label_c, input_shape[:2], 'nearest')\n",
    "label = tf.squeeze(label_c)    \n",
    "label_onehot = tf.one_hot(label, len(class_nums))"
   ]
  },
  {
   "cell_type": "markdown",
   "metadata": {},
   "source": [
    "# Preprare Dataset"
   ]
  },
  {
   "cell_type": "code",
   "execution_count": 5,
   "metadata": {},
   "outputs": [],
   "source": [
    "def data_preprocess(img_path, lbl_path):\n",
    "    image_tf = tf.io.read_file(img_path)\n",
    "    image = tf.io.decode_jpeg(image_tf) / 255\n",
    "    image = tf.image.resize(image, input_shape[:2])\n",
    "    \n",
    "    label_tf = tf.io.read_file(lbl_path)\n",
    "    label = tf.io.decode_png(label_tf)\n",
    "\n",
    "    label_c, _ = tf.split(label, [1, -1], axis=-1)\n",
    "    label_c = tf.image.resize(label_c, input_shape[:2], 'nearest')\n",
    "    label = tf.squeeze(label_c)    \n",
    "    label_onehot = tf.one_hot(label, len(class_nums))\n",
    "    return image, label_onehot"
   ]
  },
  {
   "cell_type": "code",
   "execution_count": 6,
   "metadata": {},
   "outputs": [],
   "source": [
    "dataset = tf.data.Dataset.from_tensor_slices((image_paths, label_paths))\n",
    "dataset = dataset.map(data_preprocess)\n",
    "dataset = dataset.batch(batch_size)\n",
    "dataset = dataset.shuffle(10)\n",
    "dataset = dataset.repeat()"
   ]
  },
  {
   "cell_type": "markdown",
   "metadata": {},
   "source": [
    "# Modeling"
   ]
  },
  {
   "cell_type": "code",
   "execution_count": 7,
   "metadata": {},
   "outputs": [],
   "source": [
    "# Build UNet\n",
    "inputs = layers.Input(input_shape)\n",
    "conv1 = layers.Conv2D(64, 3, padding = 'same', kernel_initializer = 'he_normal')(inputs)\n",
    "conv1 = layers.BatchNormalization()(conv1)\n",
    "conv1 = layers.Conv2D(64, 3, padding = 'same', kernel_initializer = 'he_normal')(conv1)\n",
    "conv1 = layers.BatchNormalization()(conv1)\n",
    "conv1 = layers.Activation(\"relu\")(conv1)\n",
    "pool1 = layers.MaxPooling2D(pool_size=(2, 2))(conv1)\n",
    "\n",
    "conv2 = layers.Conv2D(128, 3, padding = 'same', kernel_initializer = 'he_normal')(pool1)\n",
    "conv2 = layers.BatchNormalization()(conv2)\n",
    "conv2 = layers.Activation(\"relu\")(conv2)\n",
    "conv2 = layers.Conv2D(128, 3, padding = 'same', kernel_initializer = 'he_normal')(conv2)\n",
    "conv2 = layers.BatchNormalization()(conv2)\n",
    "conv2 = layers.Activation(\"relu\")(conv2)\n",
    "pool2 = layers.MaxPooling2D(pool_size=(2, 2))(conv2)\n",
    "\n",
    "conv3 = layers.Conv2D(256, 3, padding = 'same', kernel_initializer = 'he_normal')(pool2)\n",
    "conv3 = layers.BatchNormalization()(conv3)\n",
    "conv3 = layers.Activation(\"relu\")(conv3)\n",
    "conv3 = layers.Conv2D(256, 3, padding = 'same', kernel_initializer = 'he_normal')(conv3)\n",
    "conv3 = layers.BatchNormalization()(conv3)\n",
    "conv3 = layers.Activation(\"relu\")(conv3)\n",
    "pool3 = layers.MaxPooling2D(pool_size=(2, 2))(conv3)\n",
    "\n",
    "conv4 = layers.Conv2D(512, 3, padding = 'same', kernel_initializer = 'he_normal')(pool3)\n",
    "conv4 = layers.BatchNormalization()(conv4)\n",
    "conv4 = layers.Activation(\"relu\")(conv4)\n",
    "conv4 = layers.Conv2D(512, 3, padding = 'same', kernel_initializer = 'he_normal')(conv4)\n",
    "conv4 = layers.BatchNormalization()(conv4)\n",
    "conv4 = layers.Activation(\"relu\")(conv4)\n",
    "drop4 = layers.Dropout(drop_rate)(conv4)\n",
    "pool4 = layers.MaxPooling2D(pool_size=(2, 2))(drop4)\n",
    "\n",
    "conv5 = layers.Conv2D(1024, 3, padding = 'same', kernel_initializer = 'he_normal')(pool4)\n",
    "conv5 = layers.BatchNormalization()(conv5)\n",
    "conv5 = layers.Activation(\"relu\")(conv5)\n",
    "conv5 = layers.Conv2D(1024, 3, padding = 'same', kernel_initializer = 'he_normal')(conv5)\n",
    "conv5 = layers.BatchNormalization()(conv5)\n",
    "conv5 = layers.Activation(\"relu\")(conv5)\n",
    "drop5 = layers.Dropout(drop_rate)(conv5)\n",
    "\n",
    "up6 = layers.Conv2DTranspose(1024, 2, padding='same', strides=(2, 2))(drop5)\n",
    "merge6 = layers.concatenate([drop4, up6], axis=3)\n",
    "conv6 = layers.Conv2D(512, 3, padding = 'same', kernel_initializer = 'he_normal')(merge6)\n",
    "conv6 = layers.BatchNormalization()(conv6)\n",
    "conv6 = layers.Activation(\"relu\")(conv6)\n",
    "conv6 = layers.Conv2D(512, 3, padding = 'same', kernel_initializer = 'he_normal')(conv6)\n",
    "conv6 = layers.BatchNormalization()(conv6)\n",
    "conv6 = layers.Activation(\"relu\")(conv6)\n",
    "\n",
    "up7 = layers.Conv2DTranspose(512, 2, padding='same', strides=(2, 2))(conv6)\n",
    "merge7 = layers.concatenate([conv3, up7], axis=3)\n",
    "conv7 = layers.Conv2D(256, 3, padding = 'same', kernel_initializer = 'he_normal')(merge7)\n",
    "conv7 = layers.BatchNormalization()(conv7)\n",
    "conv7 = layers.Activation(\"relu\")(conv7)\n",
    "conv7 = layers.Conv2D(256, 3, padding = 'same', kernel_initializer = 'he_normal')(conv7)\n",
    "conv7 = layers.BatchNormalization()(conv7)\n",
    "conv7 = layers.Activation(\"relu\")(conv7)\n",
    "\n",
    "up8 = layers.Conv2DTranspose(256, 2, padding='same', strides=(2, 2))(conv7)\n",
    "merge8 = layers.concatenate([conv2, up8], axis=3)\n",
    "conv8 = layers.Conv2D(128, 3, padding = 'same', kernel_initializer = 'he_normal')(merge8)\n",
    "conv8 = layers.BatchNormalization()(conv8)\n",
    "conv8 = layers.Activation(\"relu\")(conv8)\n",
    "conv8 = layers.Conv2D(128, 3, padding = 'same', kernel_initializer = 'he_normal')(conv8)\n",
    "conv8 = layers.BatchNormalization()(conv8)\n",
    "conv8 = layers.Activation(\"relu\")(conv8)\n",
    "\n",
    "up9 = layers.Conv2DTranspose(128, 2, padding='same', strides=(2, 2))(conv8)\n",
    "merge9 = layers.concatenate([conv1, up9], axis=3)\n",
    "conv9 = layers.Conv2D(64, 3, padding = 'same', kernel_initializer = 'he_normal')(merge9)\n",
    "conv9 = layers.BatchNormalization()(conv9)\n",
    "conv9 = layers.Activation(\"relu\")(conv9)\n",
    "conv9 = layers.Conv2D(64, 3, padding = 'same', kernel_initializer = 'he_normal')(conv9)\n",
    "conv9 = layers.BatchNormalization()(conv9)\n",
    "conv9 = layers.Activation(\"relu\")(conv9)\n",
    "conv9 = layers.Conv2D(2, 3, activation='relu', padding='same', kernel_initializer='he_normal')(conv9)\n",
    "conv10 = layers.Conv2D(len(class_nums), 1, activation = 'sigmoid')(conv9)\n",
    "\n",
    "model = tf.keras.Model(inputs=inputs, outputs=conv10)"
   ]
  },
  {
   "cell_type": "markdown",
   "metadata": {},
   "source": [
    "# Optimization"
   ]
  },
  {
   "cell_type": "code",
   "execution_count": 8,
   "metadata": {},
   "outputs": [],
   "source": [
    "# Dice Coefficient\n",
    "def precision(y_true, y_pred):\n",
    "    axes = tuple(range(1, len(y_pred.shape)-1))\n",
    "    \n",
    "    true_positives = K.sum(K.round(K.clip(y_true * y_pred, 0, 1)), axes)\n",
    "    predicted_positives = K.sum(K.round(K.clip(y_pred, 0, 1)), axes)\n",
    "    precision = true_positives / (predicted_positives + K.epsilon())\n",
    "    \n",
    "    return K.mean(precision)\n",
    "\n",
    "\n",
    "def recall(y_true, y_pred):\n",
    "    axes = tuple(range(1, len(y_pred.shape)-1))\n",
    "    \n",
    "    true_positives = K.sum(K.round(K.clip(y_true * y_pred, 0, 1)), axes)\n",
    "    possible_positives = K.sum(K.round(K.clip(y_true, 0, 1)), axes)\n",
    "    recall = true_positives / (possible_positives + K.epsilon())\n",
    "    \n",
    "    return K.mean(recall)\n",
    "\n",
    "def dice(y_true, y_pred):\n",
    "    epsilon=1e-6\n",
    "    axes = tuple(range(1, len(y_pred.shape)-1)) \n",
    "    numerator = 2. * K.sum(y_pred * y_true, axes)\n",
    "    denominator = K.sum(K.square(y_pred) + K.square(y_true), axes)\n",
    "    \n",
    "    return K.mean(numerator / (denominator + epsilon))\n",
    "\n",
    "def soft_dice_loss(y_true, y_pred):\n",
    "    epsilon=1e-6\n",
    "    axes = tuple(range(1, len(y_pred.shape)-1)) \n",
    "    numerator = 2. * K.sum(y_pred * y_true, axes)\n",
    "    denominator = K.sum(K.square(y_pred) + K.square(y_true), axes)\n",
    "    \n",
    "    return 1 - K.mean(numerator / (denominator + epsilon))"
   ]
  },
  {
   "cell_type": "code",
   "execution_count": 9,
   "metadata": {},
   "outputs": [],
   "source": [
    "model.compile(loss=soft_dice_loss,\n",
    "              optimizer=tf.keras.optimizers.Adam(),\n",
    "              metrics=['accuracy', dice])"
   ]
  },
  {
   "cell_type": "code",
   "execution_count": 10,
   "metadata": {
    "scrolled": false
   },
   "outputs": [
    {
     "name": "stdout",
     "output_type": "stream",
     "text": [
      " 5/16 [========>.....................] - ETA: 37s - loss: 0.9624 - accuracy: 0.0430 - dice: 0.0376"
     ]
    },
    {
     "ename": "KeyboardInterrupt",
     "evalue": "",
     "output_type": "error",
     "traceback": [
      "\u001b[1;31m---------------------------------------------------------------------------\u001b[0m",
      "\u001b[1;31mKeyboardInterrupt\u001b[0m                         Traceback (most recent call last)",
      "\u001b[1;32m<ipython-input-10-73359fbe3b8e>\u001b[0m in \u001b[0;36m<module>\u001b[1;34m\u001b[0m\n\u001b[0;32m      1\u001b[0m \u001b[0mstep_per_epochs\u001b[0m \u001b[1;33m=\u001b[0m \u001b[0mlen\u001b[0m\u001b[1;33m(\u001b[0m\u001b[0mimage_paths\u001b[0m\u001b[1;33m)\u001b[0m \u001b[1;33m//\u001b[0m \u001b[0mbatch_size\u001b[0m\u001b[1;33m\u001b[0m\u001b[1;33m\u001b[0m\u001b[0m\n\u001b[0;32m      2\u001b[0m \u001b[1;33m\u001b[0m\u001b[0m\n\u001b[1;32m----> 3\u001b[1;33m \u001b[0mmodel\u001b[0m\u001b[1;33m.\u001b[0m\u001b[0mfit\u001b[0m\u001b[1;33m(\u001b[0m\u001b[0mdataset\u001b[0m\u001b[1;33m,\u001b[0m \u001b[0msteps_per_epoch\u001b[0m\u001b[1;33m=\u001b[0m\u001b[0mstep_per_epochs\u001b[0m\u001b[1;33m)\u001b[0m\u001b[1;33m\u001b[0m\u001b[1;33m\u001b[0m\u001b[0m\n\u001b[0m",
      "\u001b[1;32m~\\Anaconda3\\lib\\site-packages\\tensorflow\\python\\keras\\engine\\training.py\u001b[0m in \u001b[0;36m_method_wrapper\u001b[1;34m(self, *args, **kwargs)\u001b[0m\n\u001b[0;32m     64\u001b[0m   \u001b[1;32mdef\u001b[0m \u001b[0m_method_wrapper\u001b[0m\u001b[1;33m(\u001b[0m\u001b[0mself\u001b[0m\u001b[1;33m,\u001b[0m \u001b[1;33m*\u001b[0m\u001b[0margs\u001b[0m\u001b[1;33m,\u001b[0m \u001b[1;33m**\u001b[0m\u001b[0mkwargs\u001b[0m\u001b[1;33m)\u001b[0m\u001b[1;33m:\u001b[0m\u001b[1;33m\u001b[0m\u001b[1;33m\u001b[0m\u001b[0m\n\u001b[0;32m     65\u001b[0m     \u001b[1;32mif\u001b[0m \u001b[1;32mnot\u001b[0m \u001b[0mself\u001b[0m\u001b[1;33m.\u001b[0m\u001b[0m_in_multi_worker_mode\u001b[0m\u001b[1;33m(\u001b[0m\u001b[1;33m)\u001b[0m\u001b[1;33m:\u001b[0m  \u001b[1;31m# pylint: disable=protected-access\u001b[0m\u001b[1;33m\u001b[0m\u001b[1;33m\u001b[0m\u001b[0m\n\u001b[1;32m---> 66\u001b[1;33m       \u001b[1;32mreturn\u001b[0m \u001b[0mmethod\u001b[0m\u001b[1;33m(\u001b[0m\u001b[0mself\u001b[0m\u001b[1;33m,\u001b[0m \u001b[1;33m*\u001b[0m\u001b[0margs\u001b[0m\u001b[1;33m,\u001b[0m \u001b[1;33m**\u001b[0m\u001b[0mkwargs\u001b[0m\u001b[1;33m)\u001b[0m\u001b[1;33m\u001b[0m\u001b[1;33m\u001b[0m\u001b[0m\n\u001b[0m\u001b[0;32m     67\u001b[0m \u001b[1;33m\u001b[0m\u001b[0m\n\u001b[0;32m     68\u001b[0m     \u001b[1;31m# Running inside `run_distribute_coordinator` already.\u001b[0m\u001b[1;33m\u001b[0m\u001b[1;33m\u001b[0m\u001b[1;33m\u001b[0m\u001b[0m\n",
      "\u001b[1;32m~\\Anaconda3\\lib\\site-packages\\tensorflow\\python\\keras\\engine\\training.py\u001b[0m in \u001b[0;36mfit\u001b[1;34m(self, x, y, batch_size, epochs, verbose, callbacks, validation_split, validation_data, shuffle, class_weight, sample_weight, initial_epoch, steps_per_epoch, validation_steps, validation_batch_size, validation_freq, max_queue_size, workers, use_multiprocessing)\u001b[0m\n\u001b[0;32m    846\u001b[0m                 batch_size=batch_size):\n\u001b[0;32m    847\u001b[0m               \u001b[0mcallbacks\u001b[0m\u001b[1;33m.\u001b[0m\u001b[0mon_train_batch_begin\u001b[0m\u001b[1;33m(\u001b[0m\u001b[0mstep\u001b[0m\u001b[1;33m)\u001b[0m\u001b[1;33m\u001b[0m\u001b[1;33m\u001b[0m\u001b[0m\n\u001b[1;32m--> 848\u001b[1;33m               \u001b[0mtmp_logs\u001b[0m \u001b[1;33m=\u001b[0m \u001b[0mtrain_function\u001b[0m\u001b[1;33m(\u001b[0m\u001b[0miterator\u001b[0m\u001b[1;33m)\u001b[0m\u001b[1;33m\u001b[0m\u001b[1;33m\u001b[0m\u001b[0m\n\u001b[0m\u001b[0;32m    849\u001b[0m               \u001b[1;31m# Catch OutOfRangeError for Datasets of unknown size.\u001b[0m\u001b[1;33m\u001b[0m\u001b[1;33m\u001b[0m\u001b[1;33m\u001b[0m\u001b[0m\n\u001b[0;32m    850\u001b[0m               \u001b[1;31m# This blocks until the batch has finished executing.\u001b[0m\u001b[1;33m\u001b[0m\u001b[1;33m\u001b[0m\u001b[1;33m\u001b[0m\u001b[0m\n",
      "\u001b[1;32m~\\Anaconda3\\lib\\site-packages\\tensorflow\\python\\eager\\def_function.py\u001b[0m in \u001b[0;36m__call__\u001b[1;34m(self, *args, **kwds)\u001b[0m\n\u001b[0;32m    578\u001b[0m         \u001b[0mxla_context\u001b[0m\u001b[1;33m.\u001b[0m\u001b[0mExit\u001b[0m\u001b[1;33m(\u001b[0m\u001b[1;33m)\u001b[0m\u001b[1;33m\u001b[0m\u001b[1;33m\u001b[0m\u001b[0m\n\u001b[0;32m    579\u001b[0m     \u001b[1;32melse\u001b[0m\u001b[1;33m:\u001b[0m\u001b[1;33m\u001b[0m\u001b[1;33m\u001b[0m\u001b[0m\n\u001b[1;32m--> 580\u001b[1;33m       \u001b[0mresult\u001b[0m \u001b[1;33m=\u001b[0m \u001b[0mself\u001b[0m\u001b[1;33m.\u001b[0m\u001b[0m_call\u001b[0m\u001b[1;33m(\u001b[0m\u001b[1;33m*\u001b[0m\u001b[0margs\u001b[0m\u001b[1;33m,\u001b[0m \u001b[1;33m**\u001b[0m\u001b[0mkwds\u001b[0m\u001b[1;33m)\u001b[0m\u001b[1;33m\u001b[0m\u001b[1;33m\u001b[0m\u001b[0m\n\u001b[0m\u001b[0;32m    581\u001b[0m \u001b[1;33m\u001b[0m\u001b[0m\n\u001b[0;32m    582\u001b[0m     \u001b[1;32mif\u001b[0m \u001b[0mtracing_count\u001b[0m \u001b[1;33m==\u001b[0m \u001b[0mself\u001b[0m\u001b[1;33m.\u001b[0m\u001b[0m_get_tracing_count\u001b[0m\u001b[1;33m(\u001b[0m\u001b[1;33m)\u001b[0m\u001b[1;33m:\u001b[0m\u001b[1;33m\u001b[0m\u001b[1;33m\u001b[0m\u001b[0m\n",
      "\u001b[1;32m~\\Anaconda3\\lib\\site-packages\\tensorflow\\python\\eager\\def_function.py\u001b[0m in \u001b[0;36m_call\u001b[1;34m(self, *args, **kwds)\u001b[0m\n\u001b[0;32m    609\u001b[0m       \u001b[1;31m# In this case we have created variables on the first call, so we run the\u001b[0m\u001b[1;33m\u001b[0m\u001b[1;33m\u001b[0m\u001b[1;33m\u001b[0m\u001b[0m\n\u001b[0;32m    610\u001b[0m       \u001b[1;31m# defunned version which is guaranteed to never create variables.\u001b[0m\u001b[1;33m\u001b[0m\u001b[1;33m\u001b[0m\u001b[1;33m\u001b[0m\u001b[0m\n\u001b[1;32m--> 611\u001b[1;33m       \u001b[1;32mreturn\u001b[0m \u001b[0mself\u001b[0m\u001b[1;33m.\u001b[0m\u001b[0m_stateless_fn\u001b[0m\u001b[1;33m(\u001b[0m\u001b[1;33m*\u001b[0m\u001b[0margs\u001b[0m\u001b[1;33m,\u001b[0m \u001b[1;33m**\u001b[0m\u001b[0mkwds\u001b[0m\u001b[1;33m)\u001b[0m  \u001b[1;31m# pylint: disable=not-callable\u001b[0m\u001b[1;33m\u001b[0m\u001b[1;33m\u001b[0m\u001b[0m\n\u001b[0m\u001b[0;32m    612\u001b[0m     \u001b[1;32melif\u001b[0m \u001b[0mself\u001b[0m\u001b[1;33m.\u001b[0m\u001b[0m_stateful_fn\u001b[0m \u001b[1;32mis\u001b[0m \u001b[1;32mnot\u001b[0m \u001b[1;32mNone\u001b[0m\u001b[1;33m:\u001b[0m\u001b[1;33m\u001b[0m\u001b[1;33m\u001b[0m\u001b[0m\n\u001b[0;32m    613\u001b[0m       \u001b[1;31m# Release the lock early so that multiple threads can perform the call\u001b[0m\u001b[1;33m\u001b[0m\u001b[1;33m\u001b[0m\u001b[1;33m\u001b[0m\u001b[0m\n",
      "\u001b[1;32m~\\Anaconda3\\lib\\site-packages\\tensorflow\\python\\eager\\function.py\u001b[0m in \u001b[0;36m__call__\u001b[1;34m(self, *args, **kwargs)\u001b[0m\n\u001b[0;32m   2418\u001b[0m     \u001b[1;32mwith\u001b[0m \u001b[0mself\u001b[0m\u001b[1;33m.\u001b[0m\u001b[0m_lock\u001b[0m\u001b[1;33m:\u001b[0m\u001b[1;33m\u001b[0m\u001b[1;33m\u001b[0m\u001b[0m\n\u001b[0;32m   2419\u001b[0m       \u001b[0mgraph_function\u001b[0m\u001b[1;33m,\u001b[0m \u001b[0margs\u001b[0m\u001b[1;33m,\u001b[0m \u001b[0mkwargs\u001b[0m \u001b[1;33m=\u001b[0m \u001b[0mself\u001b[0m\u001b[1;33m.\u001b[0m\u001b[0m_maybe_define_function\u001b[0m\u001b[1;33m(\u001b[0m\u001b[0margs\u001b[0m\u001b[1;33m,\u001b[0m \u001b[0mkwargs\u001b[0m\u001b[1;33m)\u001b[0m\u001b[1;33m\u001b[0m\u001b[1;33m\u001b[0m\u001b[0m\n\u001b[1;32m-> 2420\u001b[1;33m     \u001b[1;32mreturn\u001b[0m \u001b[0mgraph_function\u001b[0m\u001b[1;33m.\u001b[0m\u001b[0m_filtered_call\u001b[0m\u001b[1;33m(\u001b[0m\u001b[0margs\u001b[0m\u001b[1;33m,\u001b[0m \u001b[0mkwargs\u001b[0m\u001b[1;33m)\u001b[0m  \u001b[1;31m# pylint: disable=protected-access\u001b[0m\u001b[1;33m\u001b[0m\u001b[1;33m\u001b[0m\u001b[0m\n\u001b[0m\u001b[0;32m   2421\u001b[0m \u001b[1;33m\u001b[0m\u001b[0m\n\u001b[0;32m   2422\u001b[0m   \u001b[1;33m@\u001b[0m\u001b[0mproperty\u001b[0m\u001b[1;33m\u001b[0m\u001b[1;33m\u001b[0m\u001b[0m\n",
      "\u001b[1;32m~\\Anaconda3\\lib\\site-packages\\tensorflow\\python\\eager\\function.py\u001b[0m in \u001b[0;36m_filtered_call\u001b[1;34m(self, args, kwargs)\u001b[0m\n\u001b[0;32m   1663\u001b[0m          if isinstance(t, (ops.Tensor,\n\u001b[0;32m   1664\u001b[0m                            resource_variable_ops.BaseResourceVariable))),\n\u001b[1;32m-> 1665\u001b[1;33m         self.captured_inputs)\n\u001b[0m\u001b[0;32m   1666\u001b[0m \u001b[1;33m\u001b[0m\u001b[0m\n\u001b[0;32m   1667\u001b[0m   \u001b[1;32mdef\u001b[0m \u001b[0m_call_flat\u001b[0m\u001b[1;33m(\u001b[0m\u001b[0mself\u001b[0m\u001b[1;33m,\u001b[0m \u001b[0margs\u001b[0m\u001b[1;33m,\u001b[0m \u001b[0mcaptured_inputs\u001b[0m\u001b[1;33m,\u001b[0m \u001b[0mcancellation_manager\u001b[0m\u001b[1;33m=\u001b[0m\u001b[1;32mNone\u001b[0m\u001b[1;33m)\u001b[0m\u001b[1;33m:\u001b[0m\u001b[1;33m\u001b[0m\u001b[1;33m\u001b[0m\u001b[0m\n",
      "\u001b[1;32m~\\Anaconda3\\lib\\site-packages\\tensorflow\\python\\eager\\function.py\u001b[0m in \u001b[0;36m_call_flat\u001b[1;34m(self, args, captured_inputs, cancellation_manager)\u001b[0m\n\u001b[0;32m   1744\u001b[0m       \u001b[1;31m# No tape is watching; skip to running the function.\u001b[0m\u001b[1;33m\u001b[0m\u001b[1;33m\u001b[0m\u001b[1;33m\u001b[0m\u001b[0m\n\u001b[0;32m   1745\u001b[0m       return self._build_call_outputs(self._inference_function.call(\n\u001b[1;32m-> 1746\u001b[1;33m           ctx, args, cancellation_manager=cancellation_manager))\n\u001b[0m\u001b[0;32m   1747\u001b[0m     forward_backward = self._select_forward_and_backward_functions(\n\u001b[0;32m   1748\u001b[0m         \u001b[0margs\u001b[0m\u001b[1;33m,\u001b[0m\u001b[1;33m\u001b[0m\u001b[1;33m\u001b[0m\u001b[0m\n",
      "\u001b[1;32m~\\Anaconda3\\lib\\site-packages\\tensorflow\\python\\eager\\function.py\u001b[0m in \u001b[0;36mcall\u001b[1;34m(self, ctx, args, cancellation_manager)\u001b[0m\n\u001b[0;32m    596\u001b[0m               \u001b[0minputs\u001b[0m\u001b[1;33m=\u001b[0m\u001b[0margs\u001b[0m\u001b[1;33m,\u001b[0m\u001b[1;33m\u001b[0m\u001b[1;33m\u001b[0m\u001b[0m\n\u001b[0;32m    597\u001b[0m               \u001b[0mattrs\u001b[0m\u001b[1;33m=\u001b[0m\u001b[0mattrs\u001b[0m\u001b[1;33m,\u001b[0m\u001b[1;33m\u001b[0m\u001b[1;33m\u001b[0m\u001b[0m\n\u001b[1;32m--> 598\u001b[1;33m               ctx=ctx)\n\u001b[0m\u001b[0;32m    599\u001b[0m         \u001b[1;32melse\u001b[0m\u001b[1;33m:\u001b[0m\u001b[1;33m\u001b[0m\u001b[1;33m\u001b[0m\u001b[0m\n\u001b[0;32m    600\u001b[0m           outputs = execute.execute_with_cancellation(\n",
      "\u001b[1;32m~\\Anaconda3\\lib\\site-packages\\tensorflow\\python\\eager\\execute.py\u001b[0m in \u001b[0;36mquick_execute\u001b[1;34m(op_name, num_outputs, inputs, attrs, ctx, name)\u001b[0m\n\u001b[0;32m     58\u001b[0m     \u001b[0mctx\u001b[0m\u001b[1;33m.\u001b[0m\u001b[0mensure_initialized\u001b[0m\u001b[1;33m(\u001b[0m\u001b[1;33m)\u001b[0m\u001b[1;33m\u001b[0m\u001b[1;33m\u001b[0m\u001b[0m\n\u001b[0;32m     59\u001b[0m     tensors = pywrap_tfe.TFE_Py_Execute(ctx._handle, device_name, op_name,\n\u001b[1;32m---> 60\u001b[1;33m                                         inputs, attrs, num_outputs)\n\u001b[0m\u001b[0;32m     61\u001b[0m   \u001b[1;32mexcept\u001b[0m \u001b[0mcore\u001b[0m\u001b[1;33m.\u001b[0m\u001b[0m_NotOkStatusException\u001b[0m \u001b[1;32mas\u001b[0m \u001b[0me\u001b[0m\u001b[1;33m:\u001b[0m\u001b[1;33m\u001b[0m\u001b[1;33m\u001b[0m\u001b[0m\n\u001b[0;32m     62\u001b[0m     \u001b[1;32mif\u001b[0m \u001b[0mname\u001b[0m \u001b[1;32mis\u001b[0m \u001b[1;32mnot\u001b[0m \u001b[1;32mNone\u001b[0m\u001b[1;33m:\u001b[0m\u001b[1;33m\u001b[0m\u001b[1;33m\u001b[0m\u001b[0m\n",
      "\u001b[1;31mKeyboardInterrupt\u001b[0m: "
     ]
    }
   ],
   "source": [
    "step_per_epochs = len(image_paths) // batch_size\n",
    "\n",
    "model.fit(dataset, steps_per_epoch=step_per_epochs)"
   ]
  },
  {
   "cell_type": "code",
   "execution_count": null,
   "metadata": {},
   "outputs": [],
   "source": []
  },
  {
   "cell_type": "code",
   "execution_count": null,
   "metadata": {},
   "outputs": [],
   "source": []
  }
 ],
 "metadata": {
  "kernelspec": {
   "display_name": "Python 3",
   "language": "python",
   "name": "python3"
  },
  "language_info": {
   "codemirror_mode": {
    "name": "ipython",
    "version": 3
   },
   "file_extension": ".py",
   "mimetype": "text/x-python",
   "name": "python",
   "nbconvert_exporter": "python",
   "pygments_lexer": "ipython3",
   "version": "3.7.6"
  }
 },
 "nbformat": 4,
 "nbformat_minor": 2
}
