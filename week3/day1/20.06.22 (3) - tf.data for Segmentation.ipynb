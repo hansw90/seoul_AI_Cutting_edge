{
 "cells": [
  {
   "cell_type": "code",
   "execution_count": 1,
   "metadata": {},
   "outputs": [],
   "source": [
    "import os\n",
    "from glob import glob \n",
    "\n",
    "import numpy as np\n",
    "from PIL import Image\n",
    "import matplotlib.pyplot as plt\n",
    "import tensorflow as tf\n",
    "\n",
    "%matplotlib inline"
   ]
  },
  {
   "cell_type": "code",
   "execution_count": 2,
   "metadata": {},
   "outputs": [
    {
     "data": {
      "text/plain": [
       "(64, 64)"
      ]
     },
     "execution_count": 2,
     "metadata": {},
     "output_type": "execute_result"
    }
   ],
   "source": [
    "# 더 적은 쪽을 기준으로 가져온다 \n",
    "tmp_label_paths = glob('ADE20K_2017_05_30_consistency/ADE20K_2017_05_30_consistency/images/consistencyanalysis/original_ade20k/*_seg.png')\n",
    "\n",
    "image_paths = []\n",
    "label_paths = []\n",
    "\n",
    "for lbl_path in tmp_label_paths:\n",
    "    img_path = lbl_path.replace('_seg.png', '.jpg')\n",
    "    if os.path.exists(img_path):\n",
    "        image_paths.append(img_path)\n",
    "        label_paths.append(lbl_path)\n",
    "        \n",
    "len(image_paths), len(label_paths)"
   ]
  },
  {
   "cell_type": "code",
   "execution_count": 3,
   "metadata": {},
   "outputs": [
    {
     "data": {
      "text/plain": [
       "array([ 0,  1,  2,  3,  4,  5,  6,  7,  8,  9, 10, 11, 12])"
      ]
     },
     "execution_count": 3,
     "metadata": {},
     "output_type": "execute_result"
    }
   ],
   "source": [
    "class_nums = np.arange(13)\n",
    "class_nums"
   ]
  },
  {
   "cell_type": "markdown",
   "metadata": {},
   "source": [
    "# Preprare Dataset"
   ]
  },
  {
   "cell_type": "code",
   "execution_count": 4,
   "metadata": {},
   "outputs": [],
   "source": [
    "def data_preprocess(img_path, lbl_path):\n",
    "    image_tf = tf.io.read_file(img_path)\n",
    "    image = tf.io.decode_jpeg(image_tf) / 255\n",
    "    image = tf.image.resize(image, (512, 512))\n",
    "    \n",
    "    label_tf = tf.io.read_file(lbl_path)\n",
    "    label = tf.io.decode_png(label_tf)\n",
    "\n",
    "    label_c, _ = tf.split(label, [1, -1], axis=-1)\n",
    "    label_c = tf.image.resize(label_c, [512, 512], 'nearest')\n",
    "    label = tf.squeeze(label_c)    \n",
    "    label_onehot = tf.one_hot(label, len(class_nums))\n",
    "    return image, label_onehot"
   ]
  },
  {
   "cell_type": "code",
   "execution_count": 5,
   "metadata": {},
   "outputs": [],
   "source": [
    "dataset = tf.data.Dataset.from_tensor_slices((image_paths, label_paths))\n",
    "dataset = dataset.map(data_preprocess)"
   ]
  },
  {
   "cell_type": "code",
   "execution_count": null,
   "metadata": {},
   "outputs": [],
   "source": []
  }
 ],
 "metadata": {
  "kernelspec": {
   "display_name": "Python 3",
   "language": "python",
   "name": "python3"
  },
  "language_info": {
   "codemirror_mode": {
    "name": "ipython",
    "version": 3
   },
   "file_extension": ".py",
   "mimetype": "text/x-python",
   "name": "python",
   "nbconvert_exporter": "python",
   "pygments_lexer": "ipython3",
   "version": "3.7.3"
  }
 },
 "nbformat": 4,
 "nbformat_minor": 2
}
