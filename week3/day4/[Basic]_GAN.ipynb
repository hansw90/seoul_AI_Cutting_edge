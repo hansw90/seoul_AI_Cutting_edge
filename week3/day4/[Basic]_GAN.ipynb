{
  "nbformat": 4,
  "nbformat_minor": 0,
  "metadata": {
    "colab": {
      "name": "[Basic] GAN.ipynb",
      "provenance": [],
      "collapsed_sections": []
    },
    "kernelspec": {
      "name": "python3",
      "display_name": "Python 3"
    },
    "accelerator": "GPU"
  },
  "cells": [
    {
      "cell_type": "markdown",
      "metadata": {
        "id": "XVJDQr-EW1CZ",
        "colab_type": "text"
      },
      "source": [
        "source: https://www.tensorflow.org/tutorials/generative/dcgan\n",
        "\n",
        "숫자 데이터를 학습해서 가짜 숫자 데이터를 만들어 보자 "
      ]
    },
    {
      "cell_type": "code",
      "metadata": {
        "id": "sd9AGHw-WMb0",
        "colab_type": "code",
        "colab": {}
      },
      "source": [
        "import os \n",
        "from glob import glob \n",
        "import time\n",
        "\n",
        "import imageio\n",
        "from PIL import Image\n",
        "import numpy as np\n",
        "import matplotlib.pyplot as plt\n",
        "\n",
        "import tensorflow as tf\n",
        "from tensorflow.keras import layers\n",
        "\n",
        "from IPython import display \n",
        "\n",
        "%matplotlib inline"
      ],
      "execution_count": null,
      "outputs": []
    },
    {
      "cell_type": "markdown",
      "metadata": {
        "id": "XkoLUJRcZKfE",
        "colab_type": "text"
      },
      "source": [
        "## HyperParameter"
      ]
    },
    {
      "cell_type": "code",
      "metadata": {
        "id": "g-RyvUH0ZJwG",
        "colab_type": "code",
        "colab": {}
      },
      "source": [
        "batch_size = 256\n",
        "num_epochs = 50\n",
        "noise_dim = 100\n",
        "\n",
        "num_examples_to_generate = 16"
      ],
      "execution_count": null,
      "outputs": []
    },
    {
      "cell_type": "markdown",
      "metadata": {
        "id": "xfLpLYwOXYj8",
        "colab_type": "text"
      },
      "source": [
        "## Load Datset"
      ]
    },
    {
      "cell_type": "code",
      "metadata": {
        "id": "eU7nasOMXEjL",
        "colab_type": "code",
        "colab": {
          "base_uri": "https://localhost:8080/",
          "height": 35
        },
        "outputId": "2ee0acf4-d808-42f6-cc58-812533eeadde"
      },
      "source": [
        "(train_images, train_labels), _ = tf.keras.datasets.mnist.load_data()\n",
        "\n",
        "train_images = train_images[..., tf.newaxis]\n",
        "train_images = (train_images - 127.5) / 127.5  # [-1, 1]\n",
        "train_images = train_images.astype(np.float32)\n",
        "\n",
        "np.min(train_images), np.max(train_images)"
      ],
      "execution_count": null,
      "outputs": [
        {
          "output_type": "execute_result",
          "data": {
            "text/plain": [
              "(-1.0, 1.0)"
            ]
          },
          "metadata": {
            "tags": []
          },
          "execution_count": 3
        }
      ]
    },
    {
      "cell_type": "code",
      "metadata": {
        "id": "4rJmhjA5Y8Wn",
        "colab_type": "code",
        "colab": {}
      },
      "source": [
        "dataset = tf.data.Dataset.from_tensor_slices(train_images)\n",
        "dataset = dataset.shuffle(6000)\n",
        "dataset = dataset.batch(batch_size)\n",
        "dataset = dataset.repeat()"
      ],
      "execution_count": null,
      "outputs": []
    },
    {
      "cell_type": "markdown",
      "metadata": {
        "id": "ST01uEzmZcRW",
        "colab_type": "text"
      },
      "source": [
        "# Build Models"
      ]
    },
    {
      "cell_type": "code",
      "metadata": {
        "id": "KM_1_lnmZRgq",
        "colab_type": "code",
        "colab": {}
      },
      "source": [
        "# Generator \n",
        "def build_generator():\n",
        "    inputs = layers.Input((100,))\n",
        "    net = layers.Dense(7*7*256, use_bias=False)(inputs)\n",
        "    net = layers.BatchNormalization()(net)\n",
        "    net = layers.LeakyReLU()(net)\n",
        "\n",
        "    net = layers.Reshape((7, 7, 256))(net)\n",
        "\n",
        "    net = layers.Conv2DTranspose(128, (5, 5), strides=(1, 1), padding='SAME', use_bias=False)(net)\n",
        "    net = layers.BatchNormalization()(net)\n",
        "    net = layers.LeakyReLU()(net)\n",
        "\n",
        "    net = layers.Conv2DTranspose(64, (5, 5), strides=(2, 2), padding='SAME', use_bias=False)(net)\n",
        "    net = layers.BatchNormalization()(net)\n",
        "    net = layers.LeakyReLU()(net)\n",
        "\n",
        "    net = layers.Conv2DTranspose(1, (5, 5), strides=(2, 2), padding='SAME', use_bias=False)(net)\n",
        "\n",
        "    return tf.keras.Model(inputs=inputs, outputs=net, name='generator')"
      ],
      "execution_count": null,
      "outputs": []
    },
    {
      "cell_type": "code",
      "metadata": {
        "id": "xxGVLd7gbbHB",
        "colab_type": "code",
        "colab": {
          "base_uri": "https://localhost:8080/",
          "height": 265
        },
        "outputId": "1a6e60fd-c494-475a-f3cc-fd076e0dbfe3"
      },
      "source": [
        "generator = build_generator()\n",
        "\n",
        "noise = tf.random.normal([1, 100])\n",
        "generated_image = generator(noise, training=False)\n",
        "\n",
        "plt.imshow(generated_image[0, :, :, 0], 'gray')\n",
        "plt.show()"
      ],
      "execution_count": null,
      "outputs": [
        {
          "output_type": "display_data",
          "data": {
            "image/png": "[encoded data removed]",
            "text/plain": [
              "<Figure size 432x288 with 1 Axes>"
            ]
          },
          "metadata": {
            "tags": [],
            "needs_background": "light"
          }
        }
      ]
    },
    {
      "cell_type": "code",
      "metadata": {
        "id": "XrkaOx8eb0Q1",
        "colab_type": "code",
        "colab": {}
      },
      "source": [
        "def build_discriminator():\n",
        "    inputs = layers.Input([28, 28, 1])\n",
        "\n",
        "    net = layers.Conv2D(64, (5, 5), strides=(2, 2), padding='SAME')(inputs)\n",
        "    net = layers.LeakyReLU()(net)\n",
        "    net = layers.Dropout(0.3)(net)\n",
        "\n",
        "    net = layers.Conv2D(128, (5, 5), strides=(2, 2), padding='SAME')(net)\n",
        "    net = layers.LeakyReLU()(net)\n",
        "    net = layers.Dropout(0.3)(net)\n",
        "\n",
        "    net = layers.Flatten()(net)\n",
        "    net = layers.Dense(1)(net)\n",
        "\n",
        "    return tf.keras.Model(inputs=inputs, outputs=net, name='discriminator')"
      ],
      "execution_count": null,
      "outputs": []
    },
    {
      "cell_type": "code",
      "metadata": {
        "id": "TXfgJTAfcVbZ",
        "colab_type": "code",
        "colab": {
          "base_uri": "https://localhost:8080/",
          "height": 35
        },
        "outputId": "bcdfb1ae-0087-4962-fb01-b5de6f9db90d"
      },
      "source": [
        "discriminator = build_discriminator()\n",
        "decision = discriminator(generated_image)\n",
        "decision"
      ],
      "execution_count": null,
      "outputs": [
        {
          "output_type": "execute_result",
          "data": {
            "text/plain": [
              "<tf.Tensor: shape=(1, 1), dtype=float32, numpy=array([[-0.00134278]], dtype=float32)>"
            ]
          },
          "metadata": {
            "tags": []
          },
          "execution_count": 12
        }
      ]
    },
    {
      "cell_type": "markdown",
      "metadata": {
        "id": "Xi_zMdl7deU1",
        "colab_type": "text"
      },
      "source": [
        "## Optimization Setting"
      ]
    },
    {
      "cell_type": "code",
      "metadata": {
        "id": "-NNVu1q2cyr9",
        "colab_type": "code",
        "colab": {}
      },
      "source": [
        "cross_entropy = tf.keras.losses.BinaryCrossentropy(from_logits=True)"
      ],
      "execution_count": null,
      "outputs": []
    },
    {
      "cell_type": "code",
      "metadata": {
        "id": "nSlvTgDOdkPX",
        "colab_type": "code",
        "colab": {}
      },
      "source": [
        "def discriminator_loss(real_output, fake_output):\n",
        "    real_loss = cross_entropy(tf.ones_like(real_output), real_output)\n",
        "    fake_loss = cross_entropy(tf.zeros_like(fake_output), fake_output)\n",
        "    total_loss = real_loss + fake_loss\n",
        "    return total_loss"
      ],
      "execution_count": null,
      "outputs": []
    },
    {
      "cell_type": "code",
      "metadata": {
        "id": "z2FwdZPWd0qE",
        "colab_type": "code",
        "colab": {}
      },
      "source": [
        "def generator_loss(fake_output):\n",
        "    return cross_entropy(tf.ones_like(fake_output), fake_output)"
      ],
      "execution_count": null,
      "outputs": []
    },
    {
      "cell_type": "code",
      "metadata": {
        "id": "q0SODt2leUtb",
        "colab_type": "code",
        "colab": {}
      },
      "source": [
        "generator_optimizer = tf.keras.optimizers.Adam(0.0001)\n",
        "discriminator_optimizer = tf.keras.optimizers.Adam(0.0001)"
      ],
      "execution_count": null,
      "outputs": []
    },
    {
      "cell_type": "code",
      "metadata": {
        "id": "2zHNcCJUeeLl",
        "colab_type": "code",
        "colab": {}
      },
      "source": [
        "# Checkpoint 저장 \n",
        "checkpoint_dir = '/training_checkpoints'\n",
        "checkpoint_prefix = os.path.join(checkpoint_dir, 'ckpt')\n",
        "checkpoint = tf.train.Checkpoint(generator_optimizer=generator_optimizer,\n",
        "                                 discriminator_optimizer=discriminator_optimizer,\n",
        "                                 generator=generator,\n",
        "                                 discriminator=discriminator)"
      ],
      "execution_count": null,
      "outputs": []
    },
    {
      "cell_type": "code",
      "metadata": {
        "id": "lbEr6wQze2OK",
        "colab_type": "code",
        "colab": {
          "base_uri": "https://localhost:8080/",
          "height": 35
        },
        "outputId": "8cdb58d4-cd4f-47d2-a8ab-46d5084b9bb1"
      },
      "source": [
        "seed = tf.random.normal([num_examples_to_generate, noise_dim])\n",
        "seed.shape"
      ],
      "execution_count": null,
      "outputs": [
        {
          "output_type": "execute_result",
          "data": {
            "text/plain": [
              "TensorShape([16, 100])"
            ]
          },
          "metadata": {
            "tags": []
          },
          "execution_count": 24
        }
      ]
    },
    {
      "cell_type": "code",
      "metadata": {
        "id": "JAVjlnmGfIq1",
        "colab_type": "code",
        "colab": {}
      },
      "source": [
        "@tf.function\n",
        "def train_step(images):\n",
        "    noise = tf.random.normal([batch_size, noise_dim])\n",
        "\n",
        "    with tf.GradientTape() as gen_tape, tf.GradientTape() as disc_tape:\n",
        "        generated_images = generator(noise, training=True)\n",
        "\n",
        "        real_output = discriminator(images, training=True)\n",
        "        fake_output = discriminator(generated_images, training=True)\n",
        "\n",
        "        gen_loss = generator_loss(fake_output)\n",
        "        disc_loss = discriminator_loss(real_output, fake_output)\n",
        "\n",
        "    gradients_of_generator = gen_tape.gradient(gen_loss, generator.trainable_variables)\n",
        "    gradients_of_discriminator = disc_tape.gradient(disc_loss, discriminator.trainable_variables)\n",
        "\n",
        "    generator_optimizer.apply_gradients(zip(gradients_of_generator, generator.trainable_variables))\n",
        "    discriminator_optimizer.apply_gradients(zip(gradients_of_discriminator, discriminator.trainable_variables))"
      ],
      "execution_count": null,
      "outputs": []
    },
    {
      "cell_type": "code",
      "metadata": {
        "id": "vJC6R7_Ef_HL",
        "colab_type": "code",
        "colab": {}
      },
      "source": [
        "def generate_and_save_images(model, epoch, test_input):\n",
        "    # Notice `training` is set to False.\n",
        "    # This is so all layers run in inference mode (batchnorm).\n",
        "    predictions = model(test_input, training=False)\n",
        "  \n",
        "    fig = plt.figure(figsize=(4,4))\n",
        "  \n",
        "    for i in range(predictions.shape[0]):\n",
        "        plt.subplot(4, 4, i+1)\n",
        "        plt.imshow(predictions[i, :, :, 0] * 127.5 + 127.5, cmap='gray')\n",
        "        plt.axis('off')\n",
        "  \n",
        "    plt.savefig('image_at_epoch_{:04d}.png'.format(epoch))\n",
        "    plt.show()"
      ],
      "execution_count": null,
      "outputs": []
    },
    {
      "cell_type": "code",
      "metadata": {
        "id": "7hFl44byfP2q",
        "colab_type": "code",
        "colab": {
          "base_uri": "https://localhost:8080/",
          "height": 266
        },
        "outputId": "42750a36-2060-4595-b8f4-b221994076f1"
      },
      "source": [
        "for epoch in range(num_epochs):\n",
        "    start = time.time()\n",
        "\n",
        "    for image_batch in dataset:\n",
        "        train_step(image_batch)\n",
        "\n",
        "        display.clear_output(wait=True)\n",
        "        generate_and_save_images(generator, epoch+1, seed)\n",
        "\n",
        "        if (epoch + 1) % 15 == 0:\n",
        "            checkpoint.save(file_prefix = checkpoint_prefix)\n",
        "        \n",
        "        print('Time for epoch {} is {} sec'.format(epoch+1, time.time()-start))\n",
        "\n",
        "    display.clear_output(wait=True)\n",
        "    generate_and_save_images(generator, num_epochs, seed)"
      ],
      "execution_count": null,
      "outputs": [
        {
          "output_type": "display_data",
          "data": {
            "image/png": "[encoded data removed]",
            "text/plain": [
              "<Figure size 288x288 with 16 Axes>"
            ]
          },
          "metadata": {
            "tags": [],
            "needs_background": "light"
          }
        },
        {
          "output_type": "stream",
          "text": [
            "Time for epoch 1 is 1321.1127715110779 sec\n"
          ],
          "name": "stdout"
        }
      ]
    },
    {
      "cell_type": "code",
      "metadata": {
        "id": "dZBI_GLUgean",
        "colab_type": "code",
        "colab": {}
      },
      "source": [
        ""
      ],
      "execution_count": null,
      "outputs": []
    }
  ]
}